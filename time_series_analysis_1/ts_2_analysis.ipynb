{
 "cells": [
  {
   "cell_type": "markdown",
   "metadata": {},
   "source": [
    "# Generating Synthetic Order Volume\n",
    "\n",
    "## Introduction\n"
   ]
  },
  {
   "cell_type": "markdown",
   "metadata": {},
   "source": [
    "## Import Required Libraries And Define Functions"
   ]
  },
  {
   "cell_type": "code",
   "execution_count": 15,
   "metadata": {},
   "outputs": [],
   "source": [
    "import os\n",
    "import sys\n",
    "\n",
    "# Set XLA_FLAGS before JAX is imported\n",
    "os.environ[\"XLA_FLAGS\"] = \"--xla_force_host_platform_device_count=8\""
   ]
  },
  {
   "cell_type": "code",
   "execution_count": 16,
   "metadata": {},
   "outputs": [],
   "source": [
    "import blackjax\n",
    "import blackjax.smc.resampling as resampling\n",
    "from blackjax.smc import extend_params"
   ]
  },
  {
   "cell_type": "code",
   "execution_count": 17,
   "metadata": {},
   "outputs": [],
   "source": [
    "import polars as pl\n",
    "import numpy as np\n",
    "import pandas as pd\n",
    "from plotnine import ggplot, aes, geom_point, geom_line, labs, theme_minimal, theme_bw, scale_x_continuous, scale_x_discrete, scale_x_datetime"
   ]
  },
  {
   "cell_type": "code",
   "execution_count": 18,
   "metadata": {},
   "outputs": [],
   "source": [
    "import os\n",
    "import polars as pl\n",
    "import jax.numpy as jnp\n",
    "import jax.random as random\n",
    "\n",
    "import numpyro\n"
   ]
  },
  {
   "cell_type": "code",
   "execution_count": 19,
   "metadata": {},
   "outputs": [],
   "source": [
    "import numpyro.distributions as dist\n",
    "from numpyro.infer import SVI, Trace_ELBO, Predictive\n",
    "from numpyro.infer.autoguide import AutoNormal, AutoMultivariateNormal, AutoLaplaceApproximation\n",
    "import patsy\n",
    "import matplotlib.pyplot as plt\n",
    "import arviz as az\n",
    "from numpyro.infer import MCMC, NUTS, HMC, HMCECS, MCMC, NUTS, SA, SVI, Trace_ELBO, init_to_value\n",
    "import arviz as az"
   ]
  },
  {
   "cell_type": "markdown",
   "metadata": {},
   "source": [
    "## Model\n",
    "\n",
    "### 1. Create the n_obsime Series"
   ]
  },
  {
   "cell_type": "code",
   "execution_count": 20,
   "metadata": {},
   "outputs": [],
   "source": [
    "def periodic_rbf(x, mu, sigma):\n",
    "    \"\"\"\n",
    "    Computes a periodic Gaussian radial basis function (RBF).\n",
    "    \n",
    "    Args:\n",
    "        x: Scaled day-of-year values (range [0,1]).\n",
    "        mu: Center of the Gaussian basis function.\n",
    "        sigma: Controls the spread of the Gaussian.\n",
    "    \n",
    "    Returns:\n",
    "        RBF values preserving periodicity.\n",
    "    \"\"\"\n",
    "    periodic_distance = jnp.minimum(jnp.abs(x - mu), 1 - jnp.abs(x - mu))  # Cyclic distance\n",
    "    return jnp.exp(- (periodic_distance ** 2) / (2 * sigma ** 2))\n",
    "\n",
    "def compute_doy_basis(yday_fraction, sigma = 30/365.25, n_centers = 12):\n",
    "    \"\"\"\n",
    "    Computes 12 periodic Gaussian basis functions for seasonal effects.\n",
    "    \n",
    "    Args:\n",
    "        yday_fraction: Normalized day of the year (range [0,1]).\n",
    "        yday_factor: Scaling factor for basis function width.\n",
    "    \n",
    "    Returns:\n",
    "        A JAX array with 12 columns representing the 12 monthly basis functions.\n",
    "    \"\"\"\n",
    "    # Define centers of Gaussian basis functions\n",
    "    month_centers = jnp.linspace( 1/(2*n_centers), 1-1/(2*n_centers), n_centers)\n",
    "    \n",
    "    # Generate an array of shape (length of input, 12) with the RBF values\n",
    "    doy_basis = jnp.stack([periodic_rbf(yday_fraction, mu, sigma) for mu in month_centers], axis=-1)\n",
    "\n",
    "    # Subtract each row's mean to enforce sum-to-zero constraint\n",
    "    doy_basis_centered = doy_basis - jnp.mean(doy_basis, axis=-1, keepdims=True)\n",
    "    \n",
    "    return doy_basis_centered"
   ]
  },
  {
   "cell_type": "code",
   "execution_count": null,
   "metadata": {},
   "outputs": [],
   "source": [
    "def model_local_level_poisson(sales: jnp.array, log_price_centered: jnp.array, wday, yday_fraction: jnp.array, \n",
    "                              contrasts_sdif_t: jnp.array, contrasts_wday: jnp.array, contrasts_yday: jnp.array, \n",
    "                              downsampling_factor = 1):\n",
    "    \"\"\"\n",
    "    \"\"\"\n",
    "\n",
    "    n_obs = len(sales)\n",
    "    n_states = contrasts_sdif_t.shape[0]\n",
    " \n",
    "    def sample_random_walk(contrasts_sdif_t, n_states):\n",
    "        log_sigma = numpyro.sample(\"log_sigma\", dist.Gumbel(0, 1))\n",
    "        sigma = numpyro.deterministic(\"sigma\", jnp.exp(log_sigma))\n",
    "        log_state_mean = numpyro.sample(\"log_state_mean\", dist.Normal(0, 5))\n",
    "        log_state_delta = numpyro.sample( \"log_state_delta\", dist.Normal(0, 1), sample_shape=(n_states-1,))\n",
    "        log_state_base = numpyro.deterministic(\"log_state_base\", jnp.dot(contrasts_sdif_t, log_state_delta) * sigma + log_state_mean )\n",
    "        return log_state_base\n",
    "\n",
    "    def sample_downsampled_random_walk(contrasts_sdif_t, n_obs, n_states):\n",
    "        log_state_base_downsampled = sample_random_walk(contrasts_sdif_t, n_states)\n",
    "        \n",
    "        idx_n_weight = jnp.array(range(0, n_obs))/downsampling_factor\n",
    "        idx_1 = jnp.array( jnp.floor(idx_n_weight), dtype=int)\n",
    "        idx_2 = jnp.array( jnp.ceil(idx_n_weight), dtype=int)\n",
    "        weight_2 = idx_n_weight - idx_1\n",
    "\n",
    "        state_before = log_state_base_downsampled[idx_1]\n",
    "        state_after = log_state_base_downsampled[idx_2]\n",
    "        return (1-weight_2)*state_before + weight_2*state_after\n",
    "        \n",
    "    def sample_wday_effect(contrasts_wday, wday):\n",
    "        # Prior for day-of-the-week effects (6 coefficients)\n",
    "        wday_coefficients = numpyro.sample(\"wday_coefficients\", dist.Normal(0, 1), sample_shape=(6,))\n",
    "\n",
    "        # Compute wday effect per observation (sum-to-zero constraint applied via contrasts)\n",
    "        wday_effects = jnp.dot(contrasts_wday, wday_coefficients)\n",
    "        return jnp.array([wday_effects[d - 1] for d in wday]) # to-do: just use an index vector instead of a loop\n",
    "\n",
    "    def sample_yday_effect(contrasts_yday, yday_fraction):\n",
    "        # Prior for yearly seasonality effects (12 coefficients)\n",
    "        yday_coefficients = numpyro.sample(\"yday_coefficients\", dist.Normal(0, 1), sample_shape=(12,))\n",
    "        return jnp.dot(contrasts_yday, yday_coefficients)\n",
    "\n",
    "    def sample_price_effect(log_price_centered):\n",
    "        # Prior for price elasticity\n",
    "        log_elasticity = numpyro.sample( \"log_elasticity\", dist.Normal(0, 1) )\n",
    "        elasticity = numpyro.deterministic( \"elasticity\", -1 * jnp.exp( log_elasticity ))\n",
    "        return log_price_centered * elasticity\n",
    "\n",
    "\n",
    "    # Sample random walk    \n",
    "    if n_obs == n_states:\n",
    "        log_state_base = sample_random_walk(contrasts_sdif_t, n_states)\n",
    "    else:\n",
    "        log_state_base = sample_downsampled_random_walk(contrasts_sdif_t, n_obs, n_states)\n",
    "\n",
    "    # Sample day-of-the-week effects\n",
    "    wday_effect = sample_wday_effect(contrasts_wday, wday)\n",
    "\n",
    "    # Sample day-of-the-year effects\n",
    "    yday_effect = sample_yday_effect(contrasts_yday, yday_fraction)\n",
    "\n",
    "    # Sample elasticity effect\n",
    "    price_effect = sample_price_effect(log_price_centered)\n",
    "\n",
    "    # Compute state\n",
    "    state = numpyro.deterministic(\"state\", jnp.exp(log_state_base + price_effect + yday_effect + wday_effect))\n",
    "\n",
    "    # Compute log-likelihood for poisson emissions\n",
    "    numpyro.sample(\"sales\", dist.Poisson(rate=state), obs=sales)"
   ]
  },
  {
   "cell_type": "code",
   "execution_count": 22,
   "metadata": {},
   "outputs": [],
   "source": [
    "def init_values(sales: jnp.array, log_price_centered: jnp.array, wday, yday_fraction: jnp.array):\n",
    "    \"\"\"\n",
    "    \"\"\"\n",
    "    log_state_est = jnp.log(sales)\n",
    "    log_state_mean_est = jnp.mean(log_state_est)\n",
    "    log_state_delta_est = jnp.diff(log_state_est)\n",
    "    log_state_delta_sd_est = jnp.std(log_state_delta_est)\n",
    "\n",
    "    return {\n",
    "        \"log_sigma\": jnp.log( log_state_delta_sd_est ),\n",
    "        \"log_state_mean\": log_state_mean_est,\n",
    "        \"log_state_delta\": log_state_delta_est,\n",
    "        \"wday_coefficients\": jnp.array([0.0]*6),\n",
    "        \"yday_coefficients\": jnp.array([0.0]*12),\n",
    "        \"log_elasticity\": jnp.array([0.0])\n",
    "    }"
   ]
  },
  {
   "cell_type": "code",
   "execution_count": null,
   "metadata": {},
   "outputs": [],
   "source": [
    "def prepare_model_arguments(sales: jnp.array, log_price: jnp.array, wday, yday_fraction: jnp.array, downsampling_factor = 1):\n",
    "    \"\"\" \n",
    "    \"\"\"    \n",
    "    n_obs = len(sales)\n",
    "    if downsampling_factor == 1:\n",
    "        n_states = n_obs\n",
    "    else:\n",
    "        n_states = int( np.floor(n_obs/downsampling_factor) + 1 ) \n",
    "    \n",
    "    # Define contrast matrix for random walk (T coefficients, sum-to-zero constraint)\n",
    "    contrasts_sdif_t = patsy.contrasts.Diff().code_without_intercept(range(0, n_states)).matrix\n",
    "\n",
    "    # Define contrast matrix for day-of-the-week effects (6 coefficients, sum-to-zero constraint)\n",
    "    contrasts_wday = patsy.contrasts.Diff().code_without_intercept(range(0,7)).matrix  # 7 days → 6 contrasts\n",
    "\n",
    "    # Compute yday effect per observation (sum-to-zero constraint applied via contrasts)\n",
    "    contrasts_yday = compute_doy_basis(yday_fraction, sigma = 30/365.25, n_centers = 12)\n",
    "\n",
    "    # Compute centered log price differences\n",
    "    log_price_centered = log_price - jnp.mean(log_price)\n",
    "\n",
    "    # Set up the model parameters\n",
    "    model_arguments = {'sales': sales, 'log_price_centered': log_price_centered, 'wday': wday, 'yday_fraction': yday_fraction,\n",
    "                       'downsampling_factor': downsampling_factor,\n",
    "                       'contrasts_sdif_t': contrasts_sdif_t, 'contrasts_wday': contrasts_wday, 'contrasts_yday': contrasts_yday}\n",
    "    \n",
    "    # Prepare init values for parameters \n",
    "    init_params = init_values(sales, log_price_centered, wday, yday_fraction)\n",
    "\n",
    "    return init_params, model_arguments"
   ]
  },
  {
   "cell_type": "code",
   "execution_count": 24,
   "metadata": {},
   "outputs": [],
   "source": [
    "def run_svi(sales: jnp.array, log_price: jnp.array, wday, yday_fraction: jnp.array, num_samples=1_000, num_steps=10_000):\n",
    "        \"\"\" \"\"\"\n",
    "        rng_key = random.PRNGKey(seed=42)\n",
    "\n",
    "        n_obs = len(sales)\n",
    "        \n",
    "        # Prepare model arguments\n",
    "        init_params, model_arguments = prepare_model_arguments(sales, log_price, wday, yday_fraction)    \n",
    "\n",
    "        model = model_local_level_poisson\n",
    "        guide = AutoNormal(model=model) # AutoLaplaceApproximation(model=model) # AutoNormal(model=model) # guide = AutoMultivariateNormal(model=model)\n",
    "        optimizer = numpyro.optim.Adam(step_size=0.01)\n",
    "        svi = SVI(model, guide, optimizer, loss=Trace_ELBO())\n",
    "        rng_key, rng_subkey = random.split(key=rng_key)\n",
    "\n",
    "        svi_result = svi.run(rng_key = rng_subkey, num_steps = num_steps, **model_arguments, init_params = init_params)\n",
    "        params = svi_result.params\n",
    "\n",
    "        # get posterior samples (parameters)\n",
    "        rng_key, rng_subkey = random.split(key=rng_key)\n",
    "        predictive = Predictive(model=guide, params=params, num_samples=num_samples)\n",
    "        posterior_parameters = predictive(rng_subkey, **model_arguments)\n",
    "\n",
    "        # get posterior predictive (deterministics and likelihood)\n",
    "        rng_key, rng_subkey = random.split(key=rng_key)\n",
    "        predictive = Predictive(model=model, guide=guide, params=params, num_samples=num_samples)\n",
    "        posterior_generated = predictive(rng_subkey, **model_arguments)\n",
    "\n",
    "        return svi_result, posterior_parameters, posterior_generated"
   ]
  },
  {
   "cell_type": "code",
   "execution_count": 54,
   "metadata": {},
   "outputs": [],
   "source": [
    "def run_nuts(sales: jnp.array, log_price: jnp.array, wday, yday_fraction: jnp.array, downsampling_factor = 1, n_chains = 1, num_warmup=1_000, num_samples=1_000):\n",
    "    \"\"\" Runs NUTS MCMC inference on the model \n",
    "    \"\"\"\n",
    "    rng_key = random.PRNGKey(0)\n",
    "    \n",
    "    n_obs = len(sales)\n",
    "    \n",
    "    # Prepare model arguments\n",
    "    init_params, model_arguments = prepare_model_arguments(sales = sales, log_price = log_price, wday = wday, yday_fraction = yday_fraction, downsampling_factor = downsampling_factor)\n",
    "\n",
    "    rng_key, rng_key_ = random.split(rng_key)\n",
    "\n",
    "    numpyro.set_host_device_count(n_chains)\n",
    "    #jax.local_device_count()\n",
    "\n",
    "    reparam_model = model_local_level_poisson # reparam(poisson_local_level, config={\"log_state_delta\": LocScaleReparam(0)})\n",
    "    kernel = NUTS(reparam_model, step_size=0.01, max_tree_depth=8) #, dense_mass=True # max_tree_depth=12\n",
    "    mcmc = MCMC(kernel, num_warmup=num_warmup, num_samples=num_samples, num_chains=n_chains)\n",
    "    #kernel = AIES(poisson_local_level)\n",
    "    #mcmc = MCMC(kernel, num_warmup=num_warmup, num_samples=num_samples, num_chains=n_chains, chain_method=\"vectorized\")\n",
    "    mcmc.run( rng_key_, **model_arguments #, init_params = init_params\n",
    "             )\n",
    "\n",
    "    samples = mcmc.get_samples()\n",
    "\n",
    "    return {'log_state_base': jnp.mean(samples['log_state_base'], axis=0),\n",
    "            'state': jnp.mean(samples['state'], axis=0),\n",
    "            'mcmc': mcmc\n",
    "           }  \n",
    "  "
   ]
  },
  {
   "cell_type": "code",
   "execution_count": 26,
   "metadata": {},
   "outputs": [],
   "source": [
    "df = pl.read_csv(\"sales_synthetic.csv\")\n",
    "df = df.with_columns( pl.col(\"date\").str.to_date())\n",
    "\n",
    "sales = df[\"sales\"].to_numpy()\n",
    "log_price = df[\"log_price\"].to_numpy()\n",
    "wday = df[\"date\"].dt.weekday().to_numpy()\n",
    "yday = df[\"date\"].dt.ordinal_day().to_numpy()\n",
    "is_leap_year = df[\"date\"].dt.is_leap_year().to_numpy()\n",
    "yday_fraction = yday / (365 + is_leap_year)"
   ]
  },
  {
   "cell_type": "code",
   "execution_count": null,
   "metadata": {},
   "outputs": [
    {
     "name": "stderr",
     "output_type": "stream",
     "text": [
      "sample: 100%|██████████| 2000/2000 [01:46<00:00, 18.79it/s, 255 steps of size 1.06e-02. acc. prob=0.90]\n"
     ]
    }
   ],
   "source": [
    "m = run_nuts(sales, log_price, wday, yday_fraction, n_chains = 4, downsampling_factor = 7)"
   ]
  },
  {
   "cell_type": "code",
   "execution_count": 58,
   "metadata": {},
   "outputs": [
    {
     "name": "stdout",
     "output_type": "stream",
     "text": [
      "\n",
      "                           mean       std    median      5.0%     95.0%     n_eff     r_hat\n",
      "       log_elasticity     -0.72      0.58     -0.63     -1.56      0.21    325.87      1.00\n",
      "            log_sigma     -2.68      0.10     -2.68     -2.84     -2.51    270.53      1.00\n",
      "   log_state_delta[0]      0.43      0.93      0.43     -1.13      1.82    537.92      1.00\n",
      "   log_state_delta[1]      0.32      0.86      0.33     -0.98      1.79    647.03      1.00\n",
      "   log_state_delta[2]      0.44      0.90      0.45     -0.91      2.03    381.45      1.00\n",
      "   log_state_delta[3]     -0.04      0.94     -0.03     -1.58      1.51    427.28      1.00\n",
      "   log_state_delta[4]     -0.59      0.83     -0.61     -1.92      0.72    620.58      1.00\n",
      "   log_state_delta[5]      0.33      0.84      0.31     -1.10      1.68    521.19      1.00\n",
      "   log_state_delta[6]      0.69      0.90      0.69     -0.67      2.18    645.59      1.00\n",
      "   log_state_delta[7]      0.68      0.89      0.68     -0.64      2.18    513.59      1.00\n",
      "   log_state_delta[8]      0.25      0.88      0.24     -1.25      1.70    572.79      1.00\n",
      "   log_state_delta[9]     -0.59      0.86     -0.62     -2.13      0.65    325.17      1.01\n",
      "  log_state_delta[10]     -0.29      0.85     -0.31     -1.73      1.04    513.86      1.01\n",
      "  log_state_delta[11]      0.09      0.83      0.09     -1.37      1.34    661.72      1.00\n",
      "  log_state_delta[12]      0.40      0.80      0.38     -1.02      1.64    560.26      1.00\n",
      "  log_state_delta[13]      0.42      0.84      0.43     -1.17      1.63    474.19      1.00\n",
      "  log_state_delta[14]      0.46      0.87      0.47     -1.01      1.82    653.74      1.00\n",
      "  log_state_delta[15]     -0.22      0.88     -0.25     -1.67      1.15    522.22      1.00\n",
      "  log_state_delta[16]     -0.22      0.88     -0.26     -1.60      1.24    450.76      1.00\n",
      "  log_state_delta[17]     -0.24      0.88     -0.25     -1.65      1.19    507.65      1.00\n",
      "  log_state_delta[18]     -0.30      0.85     -0.28     -1.72      1.00    602.33      1.00\n",
      "  log_state_delta[19]     -0.04      0.87     -0.01     -1.46      1.34    561.20      1.01\n",
      "  log_state_delta[20]      0.39      0.90      0.39     -1.01      1.77    499.72      1.00\n",
      "  log_state_delta[21]      0.59      0.91      0.57     -0.78      2.15    537.50      1.00\n",
      "  log_state_delta[22]      0.49      0.90      0.48     -0.86      2.03    467.47      1.00\n",
      "  log_state_delta[23]      1.28      0.90      1.33     -0.37      2.64    661.85      1.00\n",
      "  log_state_delta[24]      1.38      0.85      1.38     -0.22      2.60    561.98      1.00\n",
      "  log_state_delta[25]      0.47      0.89      0.45     -1.01      1.90    601.52      1.00\n",
      "  log_state_delta[26]      0.46      0.86      0.47     -0.90      1.91    684.46      1.00\n",
      "  log_state_delta[27]      0.30      0.88      0.25     -1.16      1.70    489.56      1.00\n",
      "  log_state_delta[28]      0.10      0.89      0.06     -1.14      1.76    493.63      1.00\n",
      "  log_state_delta[29]     -0.09      0.90     -0.07     -1.44      1.51    536.42      1.00\n",
      "  log_state_delta[30]      0.31      0.90      0.35     -1.16      1.75    580.60      1.00\n",
      "  log_state_delta[31]      0.65      0.87      0.69     -0.68      2.29    385.14      1.01\n",
      "  log_state_delta[32]     -0.19      0.88     -0.18     -1.57      1.26    446.12      1.01\n",
      "  log_state_delta[33]      0.07      0.85      0.10     -1.38      1.38    482.04      1.00\n",
      "  log_state_delta[34]      0.05      0.86      0.06     -1.27      1.49    564.59      1.00\n",
      "  log_state_delta[35]      0.22      0.88      0.24     -1.03      1.86    616.63      1.00\n",
      "  log_state_delta[36]      0.26      0.90      0.28     -1.21      1.74    550.48      1.00\n",
      "  log_state_delta[37]      0.14      0.89      0.12     -1.33      1.55    661.38      1.00\n",
      "  log_state_delta[38]      0.60      0.87      0.63     -0.80      2.03    553.34      1.00\n",
      "  log_state_delta[39]      0.76      0.86      0.78     -0.54      2.26    602.84      1.00\n",
      "  log_state_delta[40]      0.17      0.84      0.15     -1.38      1.38    438.32      1.00\n",
      "  log_state_delta[41]      0.49      0.88      0.50     -0.98      1.81    446.55      1.00\n",
      "  log_state_delta[42]      0.09      0.91      0.13     -1.36      1.59    564.27      1.00\n",
      "  log_state_delta[43]      0.30      0.80      0.31     -1.04      1.56    660.26      1.00\n",
      "  log_state_delta[44]      0.28      0.84      0.26     -1.04      1.68    629.44      1.00\n",
      "  log_state_delta[45]      0.23      0.85      0.22     -1.08      1.64    541.43      1.00\n",
      "  log_state_delta[46]      0.04      0.88      0.06     -1.35      1.53    513.85      1.00\n",
      "  log_state_delta[47]      0.03      0.86      0.06     -1.28      1.57    547.65      1.00\n",
      "  log_state_delta[48]      0.65      0.83      0.63     -0.68      2.02    537.01      1.00\n",
      "  log_state_delta[49]     -0.01      0.83      0.00     -1.43      1.20    572.27      1.00\n",
      "  log_state_delta[50]      0.64      0.85      0.65     -0.75      2.01    395.37      1.00\n",
      "  log_state_delta[51]      0.39      0.83      0.40     -1.01      1.68    429.21      1.00\n",
      "  log_state_delta[52]     -0.20      0.87     -0.22     -1.71      1.06    394.95      1.00\n",
      "  log_state_delta[53]      0.16      0.79      0.17     -1.10      1.53    235.45      1.01\n",
      "  log_state_delta[54]     -0.10      0.85     -0.09     -1.63      1.18    433.17      1.00\n",
      "  log_state_delta[55]      0.41      0.81      0.40     -0.84      1.79    658.79      1.00\n",
      "  log_state_delta[56]      0.66      0.85      0.62     -0.79      2.00    456.19      1.00\n",
      "  log_state_delta[57]      1.13      0.80      1.14     -0.07      2.51    636.47      1.00\n",
      "  log_state_delta[58]      0.12      0.78      0.10     -1.06      1.47    439.01      1.00\n",
      "  log_state_delta[59]      0.26      0.80      0.26     -0.87      1.64    608.89      1.00\n",
      "  log_state_delta[60]      0.85      0.80      0.84     -0.35      2.29    657.02      1.00\n",
      "  log_state_delta[61]      0.89      0.77      0.88     -0.33      2.16    420.56      1.00\n",
      "  log_state_delta[62]      0.45      0.76      0.47     -0.85      1.66    504.38      1.00\n",
      "  log_state_delta[63]      0.32      0.76      0.32     -1.01      1.46    583.86      1.01\n",
      "  log_state_delta[64]     -0.50      0.80     -0.47     -1.77      0.85    405.24      1.02\n",
      "  log_state_delta[65]      0.43      0.78      0.46     -0.74      1.78    347.18      1.00\n",
      "  log_state_delta[66]      0.42      0.76      0.41     -0.79      1.73    443.58      1.00\n",
      "  log_state_delta[67]     -0.06      0.81     -0.04     -1.42      1.29    660.31      1.00\n",
      "  log_state_delta[68]     -0.15      0.79     -0.12     -1.45      1.10    625.26      1.00\n",
      "  log_state_delta[69]      0.32      0.74      0.34     -0.77      1.63    458.94      1.00\n",
      "  log_state_delta[70]      0.36      0.79      0.39     -0.86      1.64    698.85      1.00\n",
      "  log_state_delta[71]      0.69      0.87      0.68     -0.74      2.08    536.21      1.00\n",
      "  log_state_delta[72]     -0.35      0.81     -0.34     -1.57      1.07    460.16      1.00\n",
      "  log_state_delta[73]      0.62      0.80      0.61     -0.55      2.09    400.14      1.00\n",
      "  log_state_delta[74]      0.13      0.82      0.14     -1.28      1.32    546.17      1.00\n",
      "  log_state_delta[75]     -0.23      0.80     -0.18     -1.46      1.08    532.33      1.00\n",
      "  log_state_delta[76]     -0.17      0.82     -0.23     -1.44      1.19    639.60      1.00\n",
      "  log_state_delta[77]      0.16      0.80      0.13     -1.30      1.32    679.63      1.00\n",
      "  log_state_delta[78]      0.23      0.85      0.19     -1.07      1.64    461.08      1.00\n",
      "  log_state_delta[79]     -0.49      0.82     -0.43     -1.86      0.79    567.74      1.00\n",
      "  log_state_delta[80]     -0.33      0.83     -0.35     -1.57      1.11    347.64      1.00\n",
      "  log_state_delta[81]      0.08      0.82      0.06     -1.25      1.40    464.33      1.00\n",
      "  log_state_delta[82]      0.75      0.85      0.73     -0.62      2.08    573.07      1.00\n",
      "  log_state_delta[83]      0.54      0.80      0.54     -0.74      1.85    518.54      1.00\n",
      "  log_state_delta[84]     -0.16      0.77     -0.12     -1.35      1.23    492.65      1.00\n",
      "  log_state_delta[85]      0.59      0.79      0.58     -0.65      1.95    567.88      1.01\n",
      "  log_state_delta[86]     -0.53      0.83     -0.54     -1.78      0.92    511.38      1.00\n",
      "  log_state_delta[87]     -0.13      0.82     -0.12     -1.64      1.09    448.32      1.00\n",
      "  log_state_delta[88]      0.74      0.84      0.74     -0.80      1.99    583.38      1.00\n",
      "  log_state_delta[89]     -0.39      0.82     -0.36     -1.89      0.83    460.91      1.00\n",
      "  log_state_delta[90]      0.18      0.79      0.17     -1.07      1.50    517.65      1.00\n",
      "  log_state_delta[91]      0.82      0.80      0.84     -0.54      2.01    442.64      1.00\n",
      "  log_state_delta[92]     -0.15      0.79     -0.13     -1.49      1.07    409.90      1.00\n",
      "  log_state_delta[93]     -0.84      0.76     -0.85     -2.10      0.36    451.93      1.00\n",
      "  log_state_delta[94]      0.21      0.78      0.20     -1.08      1.55    494.08      1.00\n",
      "  log_state_delta[95]     -0.06      0.81     -0.07     -1.33      1.27    608.36      1.00\n",
      "  log_state_delta[96]     -0.00      0.84     -0.02     -1.36      1.35    407.94      1.00\n",
      "  log_state_delta[97]      0.77      0.76      0.78     -0.45      2.02    547.05      1.00\n",
      "  log_state_delta[98]      0.77      0.77      0.76     -0.53      1.98    672.14      1.00\n",
      "  log_state_delta[99]     -0.01      0.75     -0.01     -1.12      1.38    459.22      1.00\n",
      " log_state_delta[100]      0.69      0.77      0.69     -0.47      2.00    598.03      1.00\n",
      " log_state_delta[101]      0.53      0.83      0.53     -0.81      1.82    402.02      1.00\n",
      " log_state_delta[102]      1.32      0.75      1.33      0.06      2.52    432.11      1.01\n",
      " log_state_delta[103]      0.69      0.76      0.70     -0.53      1.90    467.22      1.00\n",
      " log_state_delta[104]     -0.11      0.78     -0.10     -1.58      0.96    484.09      1.00\n",
      " log_state_delta[105]     -1.02      0.78     -0.99     -2.45      0.07    417.43      1.00\n",
      " log_state_delta[106]      0.42      0.71      0.39     -0.70      1.66    502.71      1.00\n",
      " log_state_delta[107]      0.20      0.79      0.23     -1.08      1.46    401.30      1.00\n",
      " log_state_delta[108]      0.82      0.74      0.83     -0.55      1.91    448.07      1.00\n",
      " log_state_delta[109]     -0.10      0.76     -0.12     -1.31      1.14    498.03      1.00\n",
      " log_state_delta[110]      0.22      0.75      0.21     -0.95      1.47    375.26      1.00\n",
      " log_state_delta[111]     -0.61      0.75     -0.62     -1.76      0.71    437.56      1.01\n",
      " log_state_delta[112]      0.34      0.74      0.35     -0.80      1.64    394.31      1.00\n",
      " log_state_delta[113]     -0.09      0.74     -0.09     -1.26      1.20    436.93      1.00\n",
      " log_state_delta[114]     -0.67      0.75     -0.68     -1.78      0.57    489.28      1.00\n",
      " log_state_delta[115]      0.35      0.77      0.34     -0.97      1.58    721.31      1.00\n",
      " log_state_delta[116]      1.14      0.79      1.17     -0.03      2.50    479.06      1.00\n",
      " log_state_delta[117]     -0.03      0.76     -0.02     -1.25      1.18    422.11      1.00\n",
      " log_state_delta[118]      0.85      0.74      0.85     -0.22      2.16    556.64      1.00\n",
      " log_state_delta[119]      0.76      0.74      0.74     -0.57      1.89    435.93      1.00\n",
      " log_state_delta[120]      0.32      0.75      0.30     -0.91      1.56    482.67      1.01\n",
      " log_state_delta[121]      0.36      0.76      0.38     -0.81      1.64    414.81      1.00\n",
      " log_state_delta[122]     -0.16      0.72     -0.16     -1.29      0.96    595.87      1.01\n",
      " log_state_delta[123]     -0.61      0.74     -0.60     -1.88      0.51    615.75      1.00\n",
      " log_state_delta[124]     -0.04      0.75     -0.01     -1.33      1.11    424.03      1.00\n",
      " log_state_delta[125]     -0.53      0.77     -0.50     -1.65      0.87    318.72      1.00\n",
      " log_state_delta[126]     -0.04      0.73     -0.03     -1.13      1.23    511.61      1.00\n",
      " log_state_delta[127]      0.36      0.79      0.40     -0.90      1.63    363.85      1.00\n",
      " log_state_delta[128]     -0.32      0.74     -0.28     -1.57      0.90    451.53      1.00\n",
      " log_state_delta[129]      0.20      0.76      0.17     -1.09      1.41    448.43      1.00\n",
      " log_state_delta[130]     -0.03      0.76     -0.02     -1.24      1.25    375.61      1.00\n",
      " log_state_delta[131]     -0.39      0.73     -0.41     -1.60      0.79    542.20      1.00\n",
      " log_state_delta[132]      0.93      0.74      0.94     -0.27      2.15    388.96      1.00\n",
      " log_state_delta[133]      0.79      0.80      0.81     -0.57      2.10    248.28      1.00\n",
      " log_state_delta[134]      0.06      0.72      0.04     -1.10      1.20    493.53      1.00\n",
      " log_state_delta[135]      0.07      0.73      0.07     -1.19      1.19    574.02      1.00\n",
      " log_state_delta[136]      0.64      0.75      0.64     -0.69      1.80    381.28      1.00\n",
      " log_state_delta[137]      0.29      0.74      0.33     -0.87      1.50    510.28      1.00\n",
      " log_state_delta[138]      0.71      0.74      0.73     -0.40      2.04    459.47      1.00\n",
      " log_state_delta[139]      1.47      0.73      1.49      0.23      2.63    486.25      1.00\n",
      " log_state_delta[140]      0.04      0.79      0.04     -1.23      1.33    511.00      1.00\n",
      " log_state_delta[141]     -1.38      0.77     -1.35     -2.68     -0.19    508.39      1.00\n",
      " log_state_delta[142]     -0.05      0.76     -0.04     -1.20      1.25    435.08      1.00\n",
      " log_state_delta[143]      0.57      0.76      0.54     -0.62      1.83    570.18      1.00\n",
      " log_state_delta[144]      0.66      0.69      0.66     -0.33      1.88    465.90      1.00\n",
      " log_state_delta[145]      0.77      0.75      0.80     -0.36      2.07    444.12      1.00\n",
      " log_state_delta[146]      2.14      0.73      2.14      0.98      3.26    457.53      1.00\n",
      " log_state_delta[147]      0.48      0.74      0.51     -0.78      1.63    398.87      1.00\n",
      " log_state_delta[148]     -0.12      0.73     -0.12     -1.28      1.05    369.91      1.00\n",
      " log_state_delta[149]     -0.14      0.70     -0.13     -1.30      0.90    372.21      1.00\n",
      " log_state_delta[150]     -0.12      0.70     -0.12     -1.26      0.96    504.02      1.00\n",
      " log_state_delta[151]     -0.23      0.70     -0.25     -1.36      0.91    362.37      1.01\n",
      " log_state_delta[152]      0.42      0.68      0.42     -0.68      1.57    564.05      1.00\n",
      " log_state_delta[153]     -0.53      0.70     -0.54     -1.62      0.65    471.30      1.00\n",
      " log_state_delta[154]      0.96      0.72      0.97     -0.16      2.17    453.67      1.00\n",
      " log_state_delta[155]      1.32      0.69      1.30      0.26      2.50    475.36      1.00\n",
      " log_state_delta[156]     -0.63      0.68     -0.63     -1.76      0.41    395.04      1.00\n",
      " log_state_delta[157]     -0.37      0.70     -0.38     -1.44      0.86    314.55      1.00\n",
      " log_state_delta[158]     -0.52      0.68     -0.52     -1.59      0.62    510.65      1.00\n",
      " log_state_delta[159]      1.57      0.67      1.55      0.50      2.65    476.18      1.00\n",
      " log_state_delta[160]      0.48      0.69      0.50     -0.73      1.46    511.65      1.00\n",
      " log_state_delta[161]     -0.24      0.68     -0.26     -1.36      0.83    446.63      1.00\n",
      " log_state_delta[162]     -0.29      0.67     -0.31     -1.40      0.78    440.09      1.00\n",
      " log_state_delta[163]     -0.02      0.68     -0.05     -1.09      1.16    469.19      1.00\n",
      " log_state_delta[164]     -0.03      0.64     -0.04     -1.03      1.08    536.29      1.00\n",
      " log_state_delta[165]      1.38      0.63      1.39      0.37      2.42    562.29      1.00\n",
      " log_state_delta[166]     -0.57      0.67     -0.57     -1.85      0.41    481.83      1.00\n",
      " log_state_delta[167]     -0.40      0.64     -0.39     -1.46      0.61    624.92      1.00\n",
      " log_state_delta[168]      1.18      0.64      1.19      0.23      2.32    527.51      1.00\n",
      " log_state_delta[169]     -0.55      0.65     -0.60     -1.57      0.55    447.77      1.00\n",
      " log_state_delta[170]     -0.37      0.66     -0.40     -1.51      0.66    458.72      1.00\n",
      " log_state_delta[171]      0.27      0.66      0.26     -0.78      1.34    619.17      1.01\n",
      " log_state_delta[172]      0.51      0.70      0.49     -0.69      1.58    513.06      1.00\n",
      " log_state_delta[173]      1.47      0.67      1.48      0.27      2.47    541.06      1.00\n",
      " log_state_delta[174]      0.43      0.64      0.44     -0.60      1.49    444.67      1.00\n",
      " log_state_delta[175]     -0.11      0.67     -0.13     -1.21      0.97    495.91      1.00\n",
      " log_state_delta[176]      0.71      0.70      0.74     -0.43      1.81    352.37      1.00\n",
      " log_state_delta[177]      0.50      0.66      0.53     -0.66      1.45    442.95      1.00\n",
      " log_state_delta[178]     -0.14      0.65     -0.17     -1.17      0.93    404.41      1.00\n",
      " log_state_delta[179]     -0.06      0.65     -0.07     -1.01      1.07    347.61      1.00\n",
      " log_state_delta[180]      0.62      0.66      0.59     -0.38      1.77    414.17      1.00\n",
      " log_state_delta[181]      0.88      0.64      0.88     -0.05      2.10    485.18      1.00\n",
      " log_state_delta[182]      0.23      0.68      0.21     -0.87      1.31    436.38      1.01\n",
      " log_state_delta[183]     -0.02      0.68     -0.05     -1.04      1.12    511.99      1.00\n",
      " log_state_delta[184]     -0.65      0.66     -0.66     -1.68      0.41    424.70      1.00\n",
      " log_state_delta[185]      0.49      0.66      0.52     -0.52      1.62    584.98      1.00\n",
      " log_state_delta[186]      0.68      0.69      0.69     -0.45      1.82    303.64      1.00\n",
      " log_state_delta[187]      0.50      0.65      0.50     -0.56      1.56    473.21      1.00\n",
      " log_state_delta[188]     -0.23      0.68     -0.18     -1.33      0.82    368.46      1.00\n",
      " log_state_delta[189]      0.36      0.67      0.38     -0.77      1.40    406.21      1.00\n",
      " log_state_delta[190]      0.96      0.64      0.96      0.01      2.07    376.38      1.00\n",
      " log_state_delta[191]     -0.28      0.63     -0.27     -1.20      0.82    405.75      1.00\n",
      " log_state_delta[192]      0.36      0.68      0.34     -0.83      1.40    327.48      1.00\n",
      " log_state_delta[193]      0.60      0.61      0.57     -0.36      1.64    464.51      1.00\n",
      " log_state_delta[194]      0.65      0.61      0.65     -0.28      1.74    372.85      1.00\n",
      " log_state_delta[195]     -0.57      0.65     -0.56     -1.55      0.57    392.44      1.00\n",
      " log_state_delta[196]     -0.49      0.64     -0.47     -1.44      0.64    469.70      1.00\n",
      "       log_state_mean      3.82      0.01      3.82      3.81      3.83    418.62      1.00\n",
      " wday_coefficients[0]     -0.04      0.01     -0.04     -0.06     -0.02    600.74      1.00\n",
      " wday_coefficients[1]     -0.04      0.01     -0.04     -0.06     -0.02    470.37      1.01\n",
      " wday_coefficients[2]      0.04      0.01      0.03      0.01      0.06    462.11      1.01\n",
      " wday_coefficients[3]      0.03      0.01      0.03      0.01      0.05    476.65      1.01\n",
      " wday_coefficients[4]      0.05      0.01      0.05      0.03      0.07    475.83      1.02\n",
      " wday_coefficients[5]     -0.01      0.01     -0.01     -0.03      0.01    588.68      1.02\n",
      " yday_coefficients[0]     -0.15      0.40     -0.14     -0.82      0.46    107.58      1.01\n",
      " yday_coefficients[1]     -0.06      0.41     -0.06     -0.78      0.54     85.04      1.00\n",
      " yday_coefficients[2]     -0.17      0.39     -0.16     -0.80      0.46    118.37      1.01\n",
      " yday_coefficients[3]      0.00      0.41     -0.00     -0.61      0.73     83.68      1.00\n",
      " yday_coefficients[4]      0.04      0.38      0.06     -0.58      0.64    101.60      1.01\n",
      " yday_coefficients[5]     -0.14      0.39     -0.15     -0.86      0.46     80.35      1.00\n",
      " yday_coefficients[6]      0.22      0.37      0.24     -0.43      0.79    103.05      1.02\n",
      " yday_coefficients[7]     -0.13      0.38     -0.15     -0.76      0.52     77.71      1.00\n",
      " yday_coefficients[8]      0.13      0.37      0.13     -0.45      0.72     90.92      1.03\n",
      " yday_coefficients[9]     -0.23      0.39     -0.25     -0.91      0.36     77.93      1.00\n",
      "yday_coefficients[10]     -0.02      0.39     -0.04     -0.66      0.55    117.56      1.02\n",
      "yday_coefficients[11]     -0.17      0.40     -0.18     -0.85      0.44     81.00      1.00\n",
      "\n",
      "Number of divergences: 0\n"
     ]
    }
   ],
   "source": [
    "m['mcmc'].print_summary()"
   ]
  },
  {
   "cell_type": "code",
   "execution_count": 62,
   "metadata": {},
   "outputs": [
    {
     "name": "stderr",
     "output_type": "stream",
     "text": [
      "arviz - WARNING - Shape validation failed: input_shape: (1, 1000), minimum_shape: (chains=2, draws=4)\n"
     ]
    },
    {
     "name": "stdout",
     "output_type": "stream",
     "text": [
      "        mean     sd  hdi_3%  hdi_97%  mcse_mean  mcse_sd  ess_bulk  ess_tail  \\\n",
      "sigma  0.069  0.007   0.056    0.082        0.0      0.0     269.0     438.0   \n",
      "\n",
      "       r_hat  \n",
      "sigma    NaN  \n"
     ]
    }
   ],
   "source": [
    "import arviz as az\n",
    "\n",
    "summary = az.summary(m['mcmc'])\n",
    "print(summary.loc[['sigma']])"
   ]
  },
  {
   "cell_type": "code",
   "execution_count": null,
   "metadata": {},
   "outputs": [],
   "source": [
    "import inspect\n",
    "print(inspect.getsource(m['mcmc'].print_summary))"
   ]
  },
  {
   "cell_type": "code",
   "execution_count": null,
   "metadata": {},
   "outputs": [],
   "source": [
    "import jax\n",
    "from datetime import date\n",
    "rng_key = jax.random.key(int(date.today().strftime(\"%Y%m%d\")))\n",
    "\n",
    "import numpy as np\n",
    "import jax.numpy as jnp\n",
    "from jax.scipy.stats import multivariate_normal\n"
   ]
  },
  {
   "cell_type": "code",
   "execution_count": null,
   "metadata": {},
   "outputs": [],
   "source": [
    "import jax\n",
    "from datetime import date\n",
    "rng_key = jax.random.key(int(date.today().strftime(\"%Y%m%d\")))"
   ]
  },
  {
   "cell_type": "code",
   "execution_count": null,
   "metadata": {},
   "outputs": [],
   "source": [
    "import numpy as np\n",
    "import jax.numpy as jnp\n",
    "from jax.scipy.stats import multivariate_normal\n",
    "\n",
    "import blackjax\n",
    "import blackjax.smc.resampling as resampling\n",
    "from blackjax.smc import extend_params\n",
    "\n",
    "from numpyro.infer.util import initialize_model"
   ]
  },
  {
   "cell_type": "code",
   "execution_count": null,
   "metadata": {},
   "outputs": [],
   "source": [
    "init_params, model_arguments = prepare_model_arguments(sales, log_price, wday, yday_fraction)    \n",
    "\n",
    "rng_key, init_key = jax.random.split(rng_key)\n",
    "init_params, potential_fn_gen, *_ = initialize_model(\n",
    "    init_key,\n",
    "    model_local_level_poisson,\n",
    "    model_kwargs=model_arguments,\n",
    "    dynamic_args=True,\n",
    ")"
   ]
  },
  {
   "cell_type": "code",
   "execution_count": null,
   "metadata": {},
   "outputs": [],
   "source": [
    "logdensity_fn = lambda position: -potential_fn_gen(**model_arguments)(position)\n",
    "initial_position = init_params.z"
   ]
  },
  {
   "cell_type": "code",
   "execution_count": null,
   "metadata": {},
   "outputs": [],
   "source": [
    "import blackjax\n",
    "\n",
    "num_warmup = 2000\n",
    "\n",
    "adapt = blackjax.window_adaptation(\n",
    "    blackjax.nuts, logdensity_fn, target_acceptance_rate=0.8\n",
    ")\n",
    "rng_key, warmup_key = jax.random.split(rng_key)\n",
    "(last_state, parameters), _ = adapt.run(warmup_key, initial_position, num_warmup)\n",
    "kernel = blackjax.nuts(logdensity_fn, **parameters).step"
   ]
  },
  {
   "cell_type": "code",
   "execution_count": null,
   "metadata": {},
   "outputs": [],
   "source": [
    "def inference_loop(rng_key, kernel, initial_state, num_samples):\n",
    "    @jax.jit\n",
    "    def one_step(state, rng_key):\n",
    "        state, info = kernel(rng_key, state)\n",
    "        return state, (state, info)\n",
    "\n",
    "    keys = jax.random.split(rng_key, num_samples)\n",
    "    _, (states, infos) = jax.lax.scan(one_step, initial_state, keys)\n",
    "\n",
    "    return states, (\n",
    "        infos.acceptance_rate,\n",
    "        infos.is_divergent,\n",
    "        infos.num_integration_steps,\n",
    "    )"
   ]
  },
  {
   "cell_type": "code",
   "execution_count": null,
   "metadata": {},
   "outputs": [],
   "source": [
    "num_sample = 1000\n",
    "rng_key, sample_key = jax.random.split(rng_key)\n",
    "states, infos = inference_loop(sample_key, kernel, last_state, num_sample)\n",
    "#_ = states.position[\"mu\"].block_until_ready()"
   ]
  },
  {
   "cell_type": "code",
   "execution_count": null,
   "metadata": {},
   "outputs": [],
   "source": [
    "states"
   ]
  },
  {
   "cell_type": "code",
   "execution_count": null,
   "metadata": {},
   "outputs": [],
   "source": []
  },
  {
   "cell_type": "code",
   "execution_count": null,
   "metadata": {},
   "outputs": [],
   "source": []
  },
  {
   "cell_type": "code",
   "execution_count": null,
   "metadata": {},
   "outputs": [],
   "source": []
  },
  {
   "cell_type": "code",
   "execution_count": null,
   "metadata": {},
   "outputs": [],
   "source": [
    "svi_result, posterior_parameters, posterior_generated = run_svi(sales, log_price, wday, yday_fraction)"
   ]
  },
  {
   "cell_type": "code",
   "execution_count": null,
   "metadata": {},
   "outputs": [],
   "source": [
    "idata_parameters = az.from_dict(\n",
    "     posterior = { k: np.expand_dims(a=np.asarray(v), axis=0) for k, v in posterior_parameters.items() },\n",
    " )\n",
    "idata_generated = az.from_dict(\n",
    "     posterior={ k: np.expand_dims(a=np.asarray(v), axis=0) for k, v in posterior_generated.items() },\n",
    " )"
   ]
  },
  {
   "cell_type": "code",
   "execution_count": null,
   "metadata": {},
   "outputs": [],
   "source": [
    "#az.summary(data=idata_generated, var_names=[\"sigma\"], round_to=3)\n",
    "az.summary(data=idata_parameters, var_names=[\"log_sigma\", \"log_price_coefficient\", \"yday_coefficients\", \"wday_coefficients\"], round_to=3)"
   ]
  },
  {
   "cell_type": "code",
   "execution_count": null,
   "metadata": {},
   "outputs": [],
   "source": [
    "az.summary(data=idata_generated, var_names=[\"state\"], round_to=3)"
   ]
  },
  {
   "cell_type": "code",
   "execution_count": null,
   "metadata": {},
   "outputs": [],
   "source": [
    "state = jnp.mean(posterior_generated['state'], axis=0).tolist()\n",
    "df = df.with_columns([ pl.Series(\"state\", state) ])\n",
    "df"
   ]
  },
  {
   "cell_type": "code",
   "execution_count": null,
   "metadata": {},
   "outputs": [],
   "source": []
  },
  {
   "cell_type": "code",
   "execution_count": null,
   "metadata": {},
   "outputs": [],
   "source": [
    "posterior_generated"
   ]
  },
  {
   "cell_type": "code",
   "execution_count": null,
   "metadata": {},
   "outputs": [],
   "source": []
  },
  {
   "cell_type": "code",
   "execution_count": null,
   "metadata": {},
   "outputs": [],
   "source": [
    "x = pd.DataFrame({ 'date': df[\"date\"].to_numpy(), 'sales': df[\"sales\"].to_numpy(), 'state': m['state'] })\n",
    "ggplot(x, aes(x='date', y='sales')) + geom_point() + geom_line(aes(y='state'), color = \"red\") + theme_bw()"
   ]
  }
 ],
 "metadata": {
  "kernelspec": {
   "display_name": "Python 3",
   "language": "python",
   "name": "python3"
  },
  "language_info": {
   "codemirror_mode": {
    "name": "ipython",
    "version": 3
   },
   "file_extension": ".py",
   "mimetype": "text/x-python",
   "name": "python",
   "nbconvert_exporter": "python",
   "pygments_lexer": "ipython3",
   "version": "3.10.12"
  }
 },
 "nbformat": 4,
 "nbformat_minor": 2
}
