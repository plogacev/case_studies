{
 "cells": [
  {
   "cell_type": "markdown",
   "metadata": {},
   "source": [
    "# Product Grouping Analysis\n",
    "## Summary\n"
   ]
  },
  {
   "cell_type": "markdown",
   "metadata": {},
   "source": [
    "## 0. Download Data"
   ]
  },
  {
   "cell_type": "code",
   "execution_count": 1,
   "metadata": {},
   "outputs": [],
   "source": [
    "#import kagglehub\n",
    "#import shutil\n",
    "#from pathlib import Path\n",
    "#\n",
    "## Download the Groceries dataset\n",
    "#path = kagglehub.dataset_download(\"psparks/instacart-market-basket-analysis\")\n",
    "#print(\"Path to dataset files:\", path)\n",
    "#\n",
    "## Move all files to the data folder\n",
    "#dataset_path = Path(path)\n",
    "#for file in dataset_path.iterdir():\n",
    "#    shutil.move(str(file), \"./data\")\n",
    "#\n",
    "#print(\"Dataset moved to current folder.\")"
   ]
  },
  {
   "cell_type": "markdown",
   "metadata": {},
   "source": [
    "## 1. Initialize Notebook\n",
    "This section initializes the necessary packages and defines auxiliary functions."
   ]
  },
  {
   "cell_type": "markdown",
   "metadata": {},
   "source": [
    "### 1.1 Notebook Settings"
   ]
  },
  {
   "cell_type": "code",
   "execution_count": 2,
   "metadata": {},
   "outputs": [],
   "source": [
    "\n",
    "## set transformer model \n",
    "#py_model_name = 'all-MiniLM-L6-v2' # primarily English\n",
    "#py_model_name = 'paraphrase-multilingual-MiniLM-L12-v2' # multilingual\n",
    "py_model_name = 'LaBSE' \n",
    "#py_model_name = 'xlm-r-100langs-bert-base-nli-stsb-mean-tokens' \n",
    "\n",
    "# runner ups to try, according to ChatGPT:\n",
    "# - XLM-RoBERTa\n",
    "# - mBART-50\n",
    "# - MT5 (Multilingual T5)\n",
    "# - ByT5 (handles raw text at the byte level, ideal for multilingual similarity tasks).\n",
    "# - mLUKE (multilingual version of LUKE, good for named entity recognition and contextual understanding).\n",
    "# - mBERT (baseline multilingual BERT, effective but less performant than XLM-R).\n",
    "\n",
    "n_cores = 8\n"
   ]
  },
  {
   "cell_type": "markdown",
   "metadata": {},
   "source": [
    "### 1.2 Load Packages"
   ]
  },
  {
   "cell_type": "code",
   "execution_count": 3,
   "metadata": {},
   "outputs": [],
   "source": [
    "n_cores = 8\n",
    "\n",
    "import os\n",
    "os.environ[\"TOKENIZERS_PARALLELISM\"] = \"true\"\n",
    "os.environ[\"SIM_EMBEDDINGS_CORES\"] = f\"{n_cores}\"\n",
    "\n",
    "import pandas as pd\n",
    "import polars as pl\n",
    "\n",
    "import random\n",
    "import pickle\n",
    "import numpy as np\n",
    "from tqdm import tqdm\n",
    "import sentence_transformers as st\n",
    "\n",
    "import nltk\n",
    "from nltk.tokenize import word_tokenize\n",
    "\n",
    "import gensim\n",
    "from gensim.models import Word2Vec\n",
    "\n",
    "from sklearn.cluster import MiniBatchKMeans\n",
    "from sklearn.metrics.pairwise import cosine_similarity\n",
    "\n",
    "import multiprocessing\n",
    "multiprocessing.set_start_method(\"forkserver\", force=True)\n",
    "\n",
    "import torch\n",
    "torch.set_num_threads(n_cores)\n",
    "\n",
    "from collections import defaultdict\n"
   ]
  },
  {
   "cell_type": "markdown",
   "metadata": {},
   "source": [
    "### 1.3 Globally Used Code"
   ]
  },
  {
   "cell_type": "code",
   "execution_count": 4,
   "metadata": {},
   "outputs": [],
   "source": [
    "# Enable the underscore notation for polars columns, similar to ibis and dplyr (i.e., `pl.col(\"column_name\")` -> `_.column_name`)\n",
    "class PolarsColumnNamespace:\n",
    "    def __getattr__(self, name):\n",
    "        return pl.col(name)\n",
    "\n",
    "# Enable _ as a shorthand for that class\n",
    "_ = PolarsColumnNamespace()"
   ]
  },
  {
   "cell_type": "markdown",
   "metadata": {},
   "source": [
    "## 2. Prepare Transactional Data\n",
    "### 2.1 Read Transactional Data\n",
    "mention that this the Kaggle instacart dataset"
   ]
  },
  {
   "cell_type": "code",
   "execution_count": null,
   "metadata": {},
   "outputs": [],
   "source": [
    "data_dir = \"data_instacart\"\n",
    "# aisles_df = pl.read_csv(f\"./{data_dir}/aisles.csv\") # contains aisle names for each aisle id\n",
    "# departments_df = pl.read_csv(f\"./{data_dir}/departments.csv\") # contains department names for each department id\n",
    "# orders_df = pl.read_csv(f\"./{data_dir}/orders.csv\")\n",
    "products_df = pl.read_csv(f\"./{data_dir}/products.csv\") # contains product name, aisle id, and department id for each product id\n",
    "\n",
    "# contains order it to product mapping, with extra info\n",
    "order_products_prior_df = pl.read_csv(f\"./{data_dir}/order_products__prior.csv\")\n",
    "order_products_train_df = pl.read_csv(f\"./{data_dir}/order_products__train.csv\")\n",
    "order_basket_df = order_products_prior_df.vstack(order_products_train_df)"
   ]
  },
  {
   "cell_type": "code",
   "execution_count": 6,
   "metadata": {},
   "outputs": [
    {
     "data": {
      "text/html": [
       "<div><style>\n",
       ".dataframe > thead > tr,\n",
       ".dataframe > tbody > tr {\n",
       "  text-align: right;\n",
       "  white-space: pre-wrap;\n",
       "}\n",
       "</style>\n",
       "<small>shape: (49_688, 2)</small><table border=\"1\" class=\"dataframe\"><thead><tr><th>product_id</th><th>product_name</th></tr><tr><td>i64</td><td>str</td></tr></thead><tbody><tr><td>1</td><td>&quot;Chocolate Sandwich Cookies&quot;</td></tr><tr><td>2</td><td>&quot;All-Seasons Salt&quot;</td></tr><tr><td>3</td><td>&quot;Robust Golden Unsweetened Oolo…</td></tr><tr><td>4</td><td>&quot;Smart Ones Classic Favorites M…</td></tr><tr><td>5</td><td>&quot;Green Chile Anytime Sauce&quot;</td></tr><tr><td>&hellip;</td><td>&hellip;</td></tr><tr><td>49684</td><td>&quot;Vodka, Triple Distilled, Twist…</td></tr><tr><td>49685</td><td>&quot;En Croute Roast Hazelnut Cranb…</td></tr><tr><td>49686</td><td>&quot;Artisan Baguette&quot;</td></tr><tr><td>49687</td><td>&quot;Smartblend Healthy Metabolism …</td></tr><tr><td>49688</td><td>&quot;Fresh Foaming Cleanser&quot;</td></tr></tbody></table></div>"
      ],
      "text/plain": [
       "shape: (49_688, 2)\n",
       "┌────────────┬─────────────────────────────────┐\n",
       "│ product_id ┆ product_name                    │\n",
       "│ ---        ┆ ---                             │\n",
       "│ i64        ┆ str                             │\n",
       "╞════════════╪═════════════════════════════════╡\n",
       "│ 1          ┆ Chocolate Sandwich Cookies      │\n",
       "│ 2          ┆ All-Seasons Salt                │\n",
       "│ 3          ┆ Robust Golden Unsweetened Oolo… │\n",
       "│ 4          ┆ Smart Ones Classic Favorites M… │\n",
       "│ 5          ┆ Green Chile Anytime Sauce       │\n",
       "│ …          ┆ …                               │\n",
       "│ 49684      ┆ Vodka, Triple Distilled, Twist… │\n",
       "│ 49685      ┆ En Croute Roast Hazelnut Cranb… │\n",
       "│ 49686      ┆ Artisan Baguette                │\n",
       "│ 49687      ┆ Smartblend Healthy Metabolism … │\n",
       "│ 49688      ┆ Fresh Foaming Cleanser          │\n",
       "└────────────┴─────────────────────────────────┘"
      ]
     },
     "execution_count": 6,
     "metadata": {},
     "output_type": "execute_result"
    }
   ],
   "source": [
    "products_df = products_df.select(_.product_id, _.product_name)\n",
    "products_df"
   ]
  },
  {
   "cell_type": "code",
   "execution_count": 7,
   "metadata": {},
   "outputs": [
    {
     "data": {
      "text/html": [
       "<div><style>\n",
       ".dataframe > thead > tr,\n",
       ".dataframe > tbody > tr {\n",
       "  text-align: right;\n",
       "  white-space: pre-wrap;\n",
       "}\n",
       "</style>\n",
       "<small>shape: (33_819_106, 2)</small><table border=\"1\" class=\"dataframe\"><thead><tr><th>order_id</th><th>product_id</th></tr><tr><td>i64</td><td>i64</td></tr></thead><tbody><tr><td>2</td><td>33120</td></tr><tr><td>2</td><td>28985</td></tr><tr><td>2</td><td>9327</td></tr><tr><td>2</td><td>45918</td></tr><tr><td>2</td><td>30035</td></tr><tr><td>&hellip;</td><td>&hellip;</td></tr><tr><td>3421063</td><td>14233</td></tr><tr><td>3421063</td><td>35548</td></tr><tr><td>3421070</td><td>35951</td></tr><tr><td>3421070</td><td>16953</td></tr><tr><td>3421070</td><td>4724</td></tr></tbody></table></div>"
      ],
      "text/plain": [
       "shape: (33_819_106, 2)\n",
       "┌──────────┬────────────┐\n",
       "│ order_id ┆ product_id │\n",
       "│ ---      ┆ ---        │\n",
       "│ i64      ┆ i64        │\n",
       "╞══════════╪════════════╡\n",
       "│ 2        ┆ 33120      │\n",
       "│ 2        ┆ 28985      │\n",
       "│ 2        ┆ 9327       │\n",
       "│ 2        ┆ 45918      │\n",
       "│ 2        ┆ 30035      │\n",
       "│ …        ┆ …          │\n",
       "│ 3421063  ┆ 14233      │\n",
       "│ 3421063  ┆ 35548      │\n",
       "│ 3421070  ┆ 35951      │\n",
       "│ 3421070  ┆ 16953      │\n",
       "│ 3421070  ┆ 4724       │\n",
       "└──────────┴────────────┘"
      ]
     },
     "execution_count": 7,
     "metadata": {},
     "output_type": "execute_result"
    }
   ],
   "source": [
    "order_basket_df = order_basket_df.select(_.order_id, _.product_id)\n",
    "order_basket_df"
   ]
  },
  {
   "cell_type": "code",
   "execution_count": 8,
   "metadata": {},
   "outputs": [
    {
     "data": {
      "text/html": [
       "<div><style>\n",
       ".dataframe > thead > tr,\n",
       ".dataframe > tbody > tr {\n",
       "  text-align: right;\n",
       "  white-space: pre-wrap;\n",
       "}\n",
       "</style>\n",
       "<small>shape: (49_688, 2)</small><table border=\"1\" class=\"dataframe\"><thead><tr><th>product_id</th><th>len</th></tr><tr><td>i64</td><td>u32</td></tr></thead><tbody><tr><td>8923</td><td>1</td></tr><tr><td>30958</td><td>1</td></tr><tr><td>17581</td><td>1</td></tr><tr><td>14699</td><td>1</td></tr><tr><td>42882</td><td>1</td></tr><tr><td>&hellip;</td><td>&hellip;</td></tr><tr><td>40613</td><td>1</td></tr><tr><td>42060</td><td>1</td></tr><tr><td>13085</td><td>1</td></tr><tr><td>20567</td><td>1</td></tr><tr><td>10483</td><td>1</td></tr></tbody></table></div>"
      ],
      "text/plain": [
       "shape: (49_688, 2)\n",
       "┌────────────┬─────┐\n",
       "│ product_id ┆ len │\n",
       "│ ---        ┆ --- │\n",
       "│ i64        ┆ u32 │\n",
       "╞════════════╪═════╡\n",
       "│ 8923       ┆ 1   │\n",
       "│ 30958      ┆ 1   │\n",
       "│ 17581      ┆ 1   │\n",
       "│ 14699      ┆ 1   │\n",
       "│ 42882      ┆ 1   │\n",
       "│ …          ┆ …   │\n",
       "│ 40613      ┆ 1   │\n",
       "│ 42060      ┆ 1   │\n",
       "│ 13085      ┆ 1   │\n",
       "│ 20567      ┆ 1   │\n",
       "│ 10483      ┆ 1   │\n",
       "└────────────┴─────┘"
      ]
     },
     "execution_count": 8,
     "metadata": {},
     "output_type": "execute_result"
    }
   ],
   "source": [
    "# make sure there is only one product name\n",
    "products_df.group_by(\"product_id\").len().sort(\"len\", descending = True)"
   ]
  },
  {
   "cell_type": "markdown",
   "metadata": {},
   "source": [
    "## 3. Product Description Embeddings"
   ]
  },
  {
   "cell_type": "markdown",
   "metadata": {},
   "source": [
    "### 3.2 Create Description Embeddings\n"
   ]
  },
  {
   "cell_type": "code",
   "execution_count": 9,
   "metadata": {},
   "outputs": [],
   "source": [
    "def encode_semantic_embeddings(ids, desc=None, prompt = None, fname_cache = None):\n",
    "  \"\"\" \"\"\"\n",
    "  if not desc is None:\n",
    "    desc = ids\n",
    "\n",
    "  if (not fname_cache is None) and os.path.exists(fname_cache):\n",
    "      embeddings = None\n",
    "      with open(fname_cache, \"rb\") as f:\n",
    "        embeddings = pickle.load(f)\n",
    "      return embeddings\n",
    "\n",
    "  py_model = st.SentenceTransformer(py_model_name)\n",
    "  \n",
    "  embeddings = py_model.encode(\n",
    "      sentences = desc, \n",
    "      prompt = prompt,\n",
    "      show_progress_bar = True,\n",
    "      use_multiprocessing=True\n",
    "      #normalize_embeddings = True # note: apparently dot products can be used instead of cosine sim, if normalized\n",
    "  )\n",
    "\n",
    "  if (not fname_cache is None):\n",
    "      with open(fname_cache, \"wb\") as f:\n",
    "          pickle.dump(embeddings, f)\n",
    "\n",
    "  return embeddings"
   ]
  },
  {
   "cell_type": "code",
   "execution_count": 10,
   "metadata": {},
   "outputs": [],
   "source": [
    "fname_dkt_embeddings = \"./analysis2_embeddings_semantic.pkl\"\n",
    "product_ids = [str(product_id) for product_id in products_df[\"product_id\"].to_list()]\n",
    "descriptions = products_df[\"product_name\"].to_list()\n",
    "embeddings_semantic = encode_semantic_embeddings(ids = product_ids, desc = descriptions, fname_cache = fname_dkt_embeddings)"
   ]
  },
  {
   "cell_type": "markdown",
   "metadata": {},
   "source": [
    "## 4. Product Co-Occurrence Embeddings"
   ]
  },
  {
   "cell_type": "code",
   "execution_count": 11,
   "metadata": {},
   "outputs": [],
   "source": [
    "transactions = order_basket_df.group_by(\"order_id\").agg(\n",
    "    pl.col(\"product_id\").cast(pl.Utf8).alias(\"products\")\n",
    ")[\"products\"].to_list()"
   ]
  },
  {
   "cell_type": "code",
   "execution_count": 12,
   "metadata": {},
   "outputs": [],
   "source": [
    "def resample_transactions(transactions):\n",
    "    \"\"\"Resample and shuffle transactions to create a new dataset.\"\"\"\n",
    "    \n",
    "    # Define a lambda function to shuffle a list\n",
    "    shuffle = lambda lst: random.sample(lst, k=len(lst))\n",
    "\n",
    "    # Resample the transactions to create a new dataset\n",
    "    resampled_transactions = shuffle(transactions)  # Resample with replacement\n",
    "    shuffled_transactions = [shuffle(transaction) for transaction in resampled_transactions]  # Shuffle the sentences\n",
    "\n",
    "    return shuffled_transactions"
   ]
  },
  {
   "cell_type": "code",
   "execution_count": 68,
   "metadata": {},
   "outputs": [],
   "source": [
    "def encode_transactional_embeddings(product_ids, transactions, embedding_size = 100, window = 5, min_count = 1, n_bootstrap = 50, fname_cache = None):\n",
    "    \"\"\" \"\"\"\n",
    "\n",
    "    if (not fname_cache is None) and os.path.exists(fname_cache):\n",
    "        embeddings = None\n",
    "        with open(fname_cache, \"rb\") as f:\n",
    "            bootstrap_embeddings, embeddings = pickle.load(f)\n",
    "        return np.array( embeddings )\n",
    "\n",
    "    # Number of resamples\n",
    "    bootstrap_embeddings = []\n",
    "\n",
    "    for _ in tqdm( range(n_bootstrap) ):\n",
    "        resampled_transactions = resample_transactions(transactions)  # Resample with replacement and re-shuffle the transactions\n",
    "        model = Word2Vec(resampled_transactions, vector_size=embedding_size, window=window, min_count=min_count, sg=0, workers=4)\n",
    "        bootstrap_embeddings.append({word: model.wv[word] for word in model.wv.index_to_key})\n",
    "        \n",
    "    if (not fname_cache is None):\n",
    "        with open(fname_cache, \"wb\") as f:\n",
    "            pickle.dump(bootstrap_embeddings, f)\n",
    "\n",
    "    bootstrap_embeddings = [ defaultdict(lambda: np.zeros(embedding_size), d) for d in bootstrap_embeddings ]\n",
    "\n",
    "    embeddings = []\n",
    "    for product_id in tqdm( product_ids ):\n",
    "        product_embeddings = [embedding[product_id] for embedding in bootstrap_embeddings]\n",
    "        aggregated_embedding = np.mean(product_embeddings, axis=0)\n",
    "        embeddings.append( aggregated_embedding )\n",
    "\n",
    "    bootstrap_embeddings = [ dict(d) for d in bootstrap_embeddings ]\n",
    "    if (not fname_cache is None):\n",
    "        with open(fname_cache, \"wb\") as f:\n",
    "            pickle.dump((bootstrap_embeddings, embeddings), f)\n",
    "\n",
    "    return np.array( embeddings )"
   ]
  },
  {
   "cell_type": "code",
   "execution_count": 79,
   "metadata": {},
   "outputs": [
    {
     "name": "stderr",
     "output_type": "stream",
     "text": [
      "100%|██████████| 2/2 [04:47<00:00, 143.82s/it]\n",
      "100%|██████████| 49688/49688 [00:00<00:00, 68451.13it/s]\n"
     ]
    },
    {
     "name": "stdout",
     "output_type": "stream",
     "text": [
      "CPU times: user 12min 52s, sys: 2.94 s, total: 12min 55s\n",
      "Wall time: 4min 51s\n"
     ]
    }
   ],
   "source": [
    "%%time\n",
    "transactional_embedding_size = 100\n",
    "transactional_window = 5\n",
    "transactional_min_count = 1\n",
    "transactional_n_bootstrap = 2\n",
    "\n",
    "fname_dkt_embeddings = \"./analysis2_embeddings_transactions.pkl\"\n",
    "embeddings_transactional = encode_transactional_embeddings( product_ids, transactions, embedding_size = transactional_embedding_size, \n",
    "                                                            window = transactional_window, min_count = transactional_min_count, \n",
    "                                                            n_bootstrap = transactional_n_bootstrap, fname_cache = fname_dkt_embeddings)"
   ]
  },
  {
   "cell_type": "markdown",
   "metadata": {},
   "source": [
    "## 5. Fused Embeddings\n"
   ]
  },
  {
   "cell_type": "code",
   "execution_count": 90,
   "metadata": {},
   "outputs": [],
   "source": [
    "def normalize_embeddings(embeddings):\n",
    "  \"\"\" \"\"\"\n",
    "  norms = np.linalg.norm(embeddings, axis=1, keepdims=True)\n",
    "  norms[norms == 0] = 1  # Prevent division by zero\n",
    "  return embeddings / norms"
   ]
  },
  {
   "cell_type": "code",
   "execution_count": 91,
   "metadata": {},
   "outputs": [],
   "source": [
    "norm_embeddings_semantic = normalize_embeddings(embeddings_semantic)\n",
    "norm_embeddings_transactional = normalize_embeddings(embeddings_transactional)"
   ]
  },
  {
   "cell_type": "code",
   "execution_count": 92,
   "metadata": {},
   "outputs": [],
   "source": [
    "embeddings = np.column_stack((norm_embeddings_semantic, norm_embeddings_transactional))"
   ]
  },
  {
   "cell_type": "code",
   "execution_count": 88,
   "metadata": {},
   "outputs": [
    {
     "data": {
      "text/plain": [
       "(49688, 868)"
      ]
     },
     "execution_count": 88,
     "metadata": {},
     "output_type": "execute_result"
    }
   ],
   "source": [
    "embeddings.shape"
   ]
  },
  {
   "cell_type": "code",
   "execution_count": 93,
   "metadata": {},
   "outputs": [],
   "source": [
    "from sklearn.decomposition import PCA\n",
    "\n",
    "n_pca_components = 868\n",
    "pca = PCA(n_components=n_pca_components)\n",
    "embeddings_pca = pca.fit_transform(embeddings)"
   ]
  },
  {
   "cell_type": "code",
   "execution_count": 94,
   "metadata": {},
   "outputs": [],
   "source": [
    "from plotnine import *"
   ]
  },
  {
   "cell_type": "code",
   "execution_count": 95,
   "metadata": {},
   "outputs": [
    {
     "name": "stderr",
     "output_type": "stream",
     "text": [
      "/home/pavel/.local/lib/python3.10/site-packages/matplotlib/projections/__init__.py:63: UserWarning: Unable to import Axes3D. This may be due to multiple versions of Matplotlib being installed (e.g. as a system package and as a pip package). As a result, the 3D projection is not available.\n"
     ]
    },
    {
     "data": {
      "image/png": "[encoded data removed]"
     },
     "metadata": {
      "image/png": {
       "height": 480,
       "width": 640
      }
     },
     "output_type": "display_data"
    }
   ],
   "source": [
    "n_components = n_pca_components\n",
    "plot_df = pd.DataFrame({'PrincipalComponent': range(1, n_components), 'VarianceExplained': pca.explained_variance_ratio_[:(n_components-1)]})\n",
    "ggplot(plot_df, aes(x=\"PrincipalComponent\", y=\"VarianceExplained\")) + geom_bar(stat = \"identity\", fill = \"blue\") + theme_bw()"
   ]
  },
  {
   "cell_type": "code",
   "execution_count": 96,
   "metadata": {},
   "outputs": [
    {
     "name": "stderr",
     "output_type": "stream",
     "text": [
      "/home/pavel/.local/lib/python3.10/site-packages/plotnine/geoms/geom_path.py:100: PlotnineWarning: geom_path: Removed 86 rows containing missing values.\n"
     ]
    },
    {
     "data": {
      "image/png": "[encoded data removed]"
     },
     "metadata": {
      "image/png": {
       "height": 480,
       "width": 640
      }
     },
     "output_type": "display_data"
    }
   ],
   "source": [
    "plot_df = pd.DataFrame({'PrincipalComponent': range(1, n_components), 'CumulativeVarianceExplained': np.cumsum(pca.explained_variance_ratio_[:(n_components-1)]) })\n",
    "ggplot(plot_df, aes(x=\"PrincipalComponent\", y=\"CumulativeVarianceExplained\")) + geom_line(color = \"blue\") + theme_bw() + scale_y_continuous(limits=(0.9, 1))"
   ]
  },
  {
   "cell_type": "markdown",
   "metadata": {},
   "source": [
    "## 6. Similarity Quantification\n"
   ]
  },
  {
   "cell_type": "code",
   "execution_count": null,
   "metadata": {},
   "outputs": [],
   "source": [
    "sim = cosine_similarity(embeddings_pca, embeddings_pca)\n",
    "distance = 1 - sim"
   ]
  },
  {
   "cell_type": "code",
   "execution_count": null,
   "metadata": {},
   "outputs": [],
   "source": [
    "from scipy.spatial.distance import squareform\n",
    "condensed_distance = squareform(distance, checks=False)"
   ]
  },
  {
   "cell_type": "code",
   "execution_count": null,
   "metadata": {},
   "outputs": [],
   "source": [
    "from scipy.cluster.hierarchy import linkage, dendrogram\n",
    "\n",
    "Z = linkage(condensed_distance, method='average')  # or 'average', 'complete', etc."
   ]
  },
  {
   "cell_type": "code",
   "execution_count": null,
   "metadata": {},
   "outputs": [],
   "source": [
    "import json\n",
    "\n",
    "def build_tree(node, labels):\n",
    "    if node.is_leaf():\n",
    "        return {\"name\": labels[node.id]}\n",
    "    else:\n",
    "        return {\n",
    "            \"name\": \"\",  # or str(node.id) if you want internal node IDs\n",
    "            \"children\": [build_tree(node.left, labels), build_tree(node.right, labels)]\n",
    "        }\n",
    "\n",
    "root_node = to_tree(Z)\n",
    "tree_json = build_tree(root_node, description)\n",
    "\n",
    "# Optional: save to file\n",
    "with open('tree.json', 'w') as f:\n",
    "    json.dump(tree_json, f)"
   ]
  },
  {
   "cell_type": "code",
   "execution_count": null,
   "metadata": {},
   "outputs": [],
   "source": [
    "import dash\n",
    "import dash_cytoscape as cyto\n",
    "from dash import html\n",
    "\n",
    "def linkage_to_elements(Z):\n",
    "    tree, nodes = to_tree(Z, rd=True)\n",
    "    elements = []\n",
    "    for node in nodes:\n",
    "        elements.append({'data': {'id': str(node.id), 'label': f'{node.id}'}})\n",
    "        if node.left:\n",
    "            elements.append({'data': {'source': str(node.left.id), 'target': str(node.id)}})\n",
    "        if node.right:\n",
    "            elements.append({'data': {'source': str(node.right.id), 'target': str(node.id)}})\n",
    "    return elements\n",
    "\n",
    "\n",
    "from scipy.cluster.hierarchy import linkage, to_tree\n",
    "\n",
    "elements = linkage_to_elements(Z)\n",
    "\n",
    "app = dash.Dash(__name__)\n",
    "app.layout = html.Div([\n",
    "    cyto.Cytoscape(\n",
    "        id='dendrogram',\n",
    "        elements=elements,\n",
    "        layout={'name': 'breadthfirst', 'spacingFactor': 2},\n",
    "        style={'width': '100%', 'height': '900px'},\n",
    "        minZoom=0.1,\n",
    "        maxZoom=10\n",
    "    )\n",
    "])\n",
    "\n",
    "app.run(debug=True)"
   ]
  },
  {
   "cell_type": "code",
   "execution_count": null,
   "metadata": {},
   "outputs": [],
   "source": []
  },
  {
   "cell_type": "code",
   "execution_count": null,
   "metadata": {},
   "outputs": [],
   "source": []
  },
  {
   "cell_type": "code",
   "execution_count": null,
   "metadata": {},
   "outputs": [],
   "source": [
    "import matplotlib.pyplot as plt\n",
    "from scipy.cluster.hierarchy import dendrogram\n",
    "\n",
    "plt.figure(figsize=(12, 8))\n",
    "dendrogram(Z, labels=product_ids, leaf_rotation=90)\n",
    "plt.show()"
   ]
  }
 ],
 "metadata": {
  "kernelspec": {
   "display_name": "Python 3",
   "language": "python",
   "name": "python3"
  },
  "language_info": {
   "codemirror_mode": {
    "name": "ipython",
    "version": 3
   },
   "file_extension": ".py",
   "mimetype": "text/x-python",
   "name": "python",
   "nbconvert_exporter": "python",
   "pygments_lexer": "ipython3",
   "version": "3.10.12"
  }
 },
 "nbformat": 4,
 "nbformat_minor": 2
}
